{
  "nbformat": 4,
  "nbformat_minor": 0,
  "metadata": {
    "colab": {
      "provenance": [],
      "toc_visible": true,
      "authorship_tag": "ABX9TyPV2UxnYkenwRlx+kdVJI5C",
      "include_colab_link": true
    },
    "kernelspec": {
      "name": "python3",
      "display_name": "Python 3"
    },
    "language_info": {
      "name": "python"
    }
  },
  "cells": [
    {
      "cell_type": "markdown",
      "metadata": {
        "id": "view-in-github",
        "colab_type": "text"
      },
      "source": [
        "<a href=\"https://colab.research.google.com/github/Jirayut19/project0001/blob/main/importProjectFromGithup.ipynb\" target=\"_parent\"><img src=\"https://colab.research.google.com/assets/colab-badge.svg\" alt=\"Open In Colab\"/></a>"
      ]
    },
    {
      "cell_type": "code",
      "execution_count": null,
      "metadata": {
        "colab": {
          "base_uri": "https://localhost:8080/"
        },
        "id": "JVW6YqpuAeAN",
        "outputId": "a91238d0-2489-48c9-e619-fc3d619fa1db"
      },
      "outputs": [
        {
          "output_type": "stream",
          "name": "stdout",
          "text": [
            "Cloning into 'Getting-Long-Term-Daily-Google-Trends-Data.ipynb'...\n",
            "remote: Enumerating objects: 37, done.\u001b[K\n",
            "remote: Total 37 (delta 0), reused 0 (delta 0), pack-reused 37 (from 1)\u001b[K\n",
            "Receiving objects: 100% (37/37), 23.98 KiB | 1.20 MiB/s, done.\n",
            "Resolving deltas: 100% (16/16), done.\n"
          ]
        }
      ],
      "source": [
        "!git clone https://github.com/PhilippeCodes/Getting-Long-Term-Daily-Google-Trends-Data.ipynb.git"
      ]
    },
    {
      "cell_type": "code",
      "source": [
        "#ทดสอบรับค่า มาคำนวณ\n",
        "W = float(input(\"น้ำหนัก (kg) :\"))\n",
        "H = float(input(\"ส่วนสูง (cm) :\"))\n",
        "BMI = W/(H**2)\n",
        "print(\"BMI = \"+str(BMI))\n",
        "if BMI>30.0:\n",
        "  print(\"อ้วนมาก\")\n",
        "elif BMI>25.0:\n",
        "  print(\"อ้วน\")\n",
        "elif BMI>18.5:\n",
        "  print(\"ปกติ\")\n",
        "elif BMI :\n",
        "  print(\"ผอม\")"
      ],
      "metadata": {
        "colab": {
          "base_uri": "https://localhost:8080/"
        },
        "id": "9a3DHujFAsS6",
        "outputId": "44799bfd-943e-49ab-c807-77c80b1d16ed"
      },
      "execution_count": null,
      "outputs": [
        {
          "output_type": "stream",
          "name": "stdout",
          "text": [
            "น้ำหนัก (kg) :80\n",
            "ส่วนสูง (cm) :180\n",
            "BMI = 0.0024691358024691358\n",
            "ผอม\n"
          ]
        }
      ]
    },
    {
      "cell_type": "code",
      "source": [],
      "metadata": {
        "id": "lKw5ahGxoAQq"
      },
      "execution_count": null,
      "outputs": []
    }
  ]
}